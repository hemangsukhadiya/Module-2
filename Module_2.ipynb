{
  "nbformat": 4,
  "nbformat_minor": 0,
  "metadata": {
    "colab": {
      "provenance": []
    },
    "kernelspec": {
      "name": "python3",
      "display_name": "Python 3"
    },
    "language_info": {
      "name": "python"
    }
  },
  "cells": [
    {
      "cell_type": "markdown",
      "source": [
        "#**Theoritical Questions**"
      ],
      "metadata": {
        "id": "Sdp9SPmSvl1C"
      }
    },
    {
      "cell_type": "markdown",
      "source": [
        "1. What are data structures, and why are they important?\n",
        "- Ans: The data strutures are spcialized formates that are used for organising, sorting and accessing the data.\n",
        "- Importance:\n",
        "              - When we choose correct data structure it significiantely affects the efficience and performance of the program.\n",
        "              - It conserve memory usage and help in searching and sorting of the data\n"
      ],
      "metadata": {
        "id": "lTK5-L0Evy7-"
      }
    },
    {
      "cell_type": "markdown",
      "source": [
        "2. Explain the difference between mutable and immutable data types with examples?\n",
        " - Ans: The main difference between the mutable and immutable data types is we can add, delete and update the values in the mutable data types like sets, lists, dictionary etc. while we can't add, delete or update the data in the immutable data types like string, tuple etc.\n",
        "\n",
        "- For example:\n",
        "                In tuple we can not update the item like\n",
        "                t1=(1,2,3)\n",
        "                t1[2]= 34\n",
        "\n",
        "                O/P: AttributeError: 'tuple' object has no attribute\n",
        "\n",
        "                While\n",
        "                l1=[1,2,3]\n",
        "                l1[1]=5\n",
        "                print(l1)\n",
        "\n",
        "                O/P: [1,5,3]\n",
        "              \n",
        "\n"
      ],
      "metadata": {
        "id": "CEnQJ4id6Mkm"
      }
    },
    {
      "cell_type": "markdown",
      "source": [
        "3. What are the main differences between lists and tuples in Python?\n",
        "\n",
        "- Ans: The main difference between lists and tuples is that list are mutable that is we can append,remove and delete elements from the list while we can not add, update or delete elements from the tuple. Tuples are immutable list.\n",
        "\n",
        "- List is denoted by \"[ ]\" while tuple is denoted by \"( )\""
      ],
      "metadata": {
        "id": "KHlGB7X779zt"
      }
    },
    {
      "cell_type": "markdown",
      "source": [
        "4. Describe how dictionaries store data?\n",
        "- Ans: Dictionaries store data in the for of key and value pairs i.e,\n",
        " keys act as a index for the values.\n",
        "- syntax to declare a dictionary:\n",
        "                                  dict={}\n",
        "                                  dict[\"keys\"]=\"values\"\n",
        "- Example:\n",
        "            d1={\"name\":\"pwskills\",\"batch\":\"Datascience with Gen AI\"}\n",
        "            print(d1[name])\n",
        "            O/P: pwskills\n"
      ],
      "metadata": {
        "id": "md4fvu_y8kR5"
      }
    },
    {
      "cell_type": "markdown",
      "source": [
        "5. Why might you use a set instead of a list in Python?\n",
        "- Ans: We may use set instead of list in python if we wan to remove duplicates from the list. If we want only unique values from the list.\n",
        "- Example:\n",
        "            if we want to take a user input as list and we want only unique values then we can convert list to set.\n",
        "\n",
        "            s=int(input(\"Enter the values you want \"))\n",
        "            l=[]\n",
        "            for i in range (s):\n",
        "                e=input(\"Enter the values you want to acculumte in the list\")\n",
        "                l.append(e)\n",
        "            print(\"list before removing duplicates\",l)\n",
        "            print(\"list after removing duplicates\",set(l))"
      ],
      "metadata": {
        "id": "ffT9tMf6u8Ze"
      }
    },
    {
      "cell_type": "markdown",
      "source": [
        "6. What is a string in Python, and how is it different from a list?\n",
        "- Ans: String in the python is immutable collection of character and list is mutable heterogenous collection of data.\n",
        "- We can not update,delete or add any element in string while from python 3.17 the functionality of replace () is added to replace particular item in string.\n",
        "- In List we can add element using .append(), we can remove element using .remove(), we can delete element using .pop etc.. function are available in list while not in string as string is immutable while list is mutable."
      ],
      "metadata": {
        "id": "opRkZe2q0g51"
      }
    },
    {
      "cell_type": "markdown",
      "source": [
        "7. How do tuples ensure data integrity in Python?\n",
        "\n",
        "- Ans: Tuples are immutable objects so we can not add, update or delete the items from the tuple so when we talk about the data integrity it is ensured by the immutability of the tuple.\n",
        "- For example:\n",
        "              t=(1,2,3,4)\n",
        "              t1[1]=45\n",
        "\n",
        "              O/P: tuple' object does not support item assignment"
      ],
      "metadata": {
        "id": "gAzi2-GJZOyO"
      }
    },
    {
      "cell_type": "markdown",
      "source": [
        "8. What is a hash table, and how does it relate to dictionaries in Python?\n",
        "- Ans:Hash table is a function that is used to assign unique index values for the items stored in any data structure.So we can easily access the element through its index value and that indexvalue refers to the memory location in which the element is stored.\n",
        "- Hash table is related to dictionary in python as the hash table takes keys of the dictionars as index to the values inserted in that particular dictionary.\n",
        "- So dictionary elements can be accessed using the keys as an index to the values stored in that particular memory location."
      ],
      "metadata": {
        "id": "eW0kZXix8ihA"
      }
    },
    {
      "cell_type": "markdown",
      "source": [
        "9. Can lists contain different data types in Python?\n",
        "- Ans: List can contain heterogenous data i.e, it can simultaneously contain string, integer, float, complex numbers etc. together in a single take.\n",
        "- For Example:\n",
        "                L1=[\"pwSkills\",\"2356\",\"23.56\",\"34j + 6\"]"
      ],
      "metadata": {
        "id": "BTRfO3sp8syn"
      }
    },
    {
      "cell_type": "markdown",
      "source": [
        "10. Explain why strings are immutable in Python ?\n",
        "- Ans: Strings are immutable because when we try to change the character in the string it refuses to update the caharcte and moreover we can not add or delete any character once entered in the string.\n",
        "\n",
        "- For Example:\n",
        "              string1=[\"pwskills\"]\n",
        "              string1[1]=\"D\"\n",
        "              O/P: string' Object doesn't support item assignment."
      ],
      "metadata": {
        "id": "jp9KFGbI9nm8"
      }
    },
    {
      "cell_type": "markdown",
      "source": [
        "11. What advantages do dictionaries offer over lists for certain tasks?\n",
        "- Ans:The main advantage of dictionaries over lists is that it has hased key values and due to that time complexity for searching the elements is decreased while in list indexs are not hased.\n",
        "- Moreover dictionaries offer more readable approach then lists."
      ],
      "metadata": {
        "id": "RL3NL2rw-1uz"
      }
    },
    {
      "cell_type": "markdown",
      "source": [
        "12. Describe a scenario where using a tuple would be preferable over a list?\n",
        "- Ans: Example1: When we talk about the aadhar card number of the people of india that must be stored in a tuple data structure because aadhar number of a particular person must never be edited or updated once created so it must be kept in the tuple to maintain immutability of the data.\n",
        "- Example 2: When we talk about the employees visited in the cafe till afternoon so this means that employee ids that are noted till afternoon must be locked no updats must be done in it, that data should be kept in tuples to maintain integrity of the data.\n",
        "\n"
      ],
      "metadata": {
        "id": "7MBt5mNt_BhM"
      }
    },
    {
      "cell_type": "markdown",
      "source": [
        "13. How do sets handle duplicate values in Python?\n",
        "- Ans: Sets doesn't allow the duplicate values as it eliminate the data that is repeated multiple times.\n",
        "- For Example:\n",
        "                S1={1,2,4,5,5,4,1,1,1,1,2,3}\n",
        "                print(S1)\n",
        "                O/P: {1,4,2,3,5}\n",
        "                "
      ],
      "metadata": {
        "id": "H9ZHMHuMAgZV"
      }
    },
    {
      "cell_type": "markdown",
      "source": [
        "14. How does the “in” keyword work differently for lists and dictionaries?\n",
        "- Ans: In list \"in\" keyword works for a authorising that a particular element is present in the list or not while when we talk about distionary we can not see wheather values are present in or not in but we can check keys as a base for membership operator.\n",
        "- For Example1:\n",
        "                l1=[1,2,2,3,2,2,4]\n",
        "                d1={'1':'a','2':'b'}\n",
        "\n",
        "                print(1 in l1)\n",
        "                print('1' in d1)\n",
        "\n",
        "                O/P: True\n",
        "                     True\n",
        "- For Example2:\n",
        "                l1=[1,2,2,3,2,2,4]\n",
        "                d1={'1':'a','2':'b'}\n",
        "\n",
        "                print(1 in l1)\n",
        "                print('a' in d1)\n",
        "\n",
        "                O/P: True\n",
        "                     False #As a is not the key int the pairs given in the    \n",
        "                            dictionary."
      ],
      "metadata": {
        "id": "1aebJI6mBXFH"
      }
    },
    {
      "cell_type": "markdown",
      "source": [
        "15. Can you modify the elements of a tuple? Explain why or why not?\n",
        "- Ans: We cannot modify the elements of the tuple as it has the property called immutability. Due to this special property tuples doesn't allow add, update or delete elements in the inserted data.\n",
        "- For Example:\n",
        "              t1=(1,2,4,5,7)\n",
        "              t1[1]=42\n",
        "              O/P: tuple objects doesn't support arguments assignment."
      ],
      "metadata": {
        "id": "cY2PeU_OBdGW"
      }
    },
    {
      "cell_type": "markdown",
      "source": [
        "16. What is a nested dictionary, and give an example of its use case?\n",
        "- Ans: Nested Dictionary can be used in various ways for example to store employee's details like name,age,number etc with its employee id then we can use nested dictionary.\n",
        "- Coding the same usecase:\n",
        "                            l1=[\"E001\",\"E002\",\"E003\"]\n",
        "                            L2=[{\"name\":\"Rahul\",\"Age\":\"24\"},{\"name\":\"Rutul\",\"Age\":\"23\"},{\"name\":\"Rutu\",\"Age\":\"20\"}]\n",
        "                            print({emp_id:emp_details for emp_id,emp_details i in zip(L1,L2)})\n",
        "\n",
        "                            O/P: print({emp_id:emp_details for emp_id,emp_details in zip(l1,l2)})\n"
      ],
      "metadata": {
        "id": "Lnzgm9uPCLKj"
      }
    },
    {
      "cell_type": "markdown",
      "source": [
        "17. Describe the time complexity of accessing elements in a dictionary?\n",
        "- Ans:The time complexity of accessing the elements in the dictionary O(1) this means that time taken to seatch the element or to delete the element from dictionary depends on the length of dictionary, as the keys in the dictionary asre hased i.e, hash tables use hash of keys only to find the memory location elements in dictionary while in case of list it is O(n) beacuse hash table fetch the index of the elements and then find the memory location of the elements."
      ],
      "metadata": {
        "id": "6fIlRzHUCjT7"
      }
    },
    {
      "cell_type": "markdown",
      "source": [
        "18. In what situations are lists preferred over dictionaries?\n",
        "- Ans:In the situations in which we do not need any paired data or data in which one has to make pair as they are related to each other in that case we need list over dictionaries.\n",
        "- For Example:\n",
        "                #Situation in which lists are used\n",
        "                We need ids of employee who visited the cafe till evening on 2nd january then we want list only beacuse we do not want delatis of employee who visited in cafe.\n",
        "\n",
        "                #Situations in which dictionaries are used\n",
        "                If a new employee joins the company then we need ith details related to age, sex, address, emailid etc in this case to make pairs of each data and to acculumat it with single employee id then we use dictionary.  "
      ],
      "metadata": {
        "id": "0yZsVN-SCtov"
      }
    },
    {
      "cell_type": "markdown",
      "source": [
        "19. Why are dictionaries considered unordered, and how does that affect data retrieval?\n",
        "- Ans: Till python version 3.6 dictionaries where considered as unorederd collection of data but now after python 3.7 dictionaries are considered as ordered collection of data.\n",
        "- The diffecrence is seen when we rertrive the data from the dictionary\n",
        "- For example:\n",
        "                d1={'1':'a','2':'b'}\n",
        "                print(d1)\n",
        "                O/P: {'2':'b','1':'a'}\n",
        "                #output can differ in i.e, not to get dictionary in order as it was actually as the data is concidered unordered."
      ],
      "metadata": {
        "id": "4Zcu4KlWArHJ"
      }
    },
    {
      "cell_type": "markdown",
      "source": [
        "20. Explain the difference between a list and a dictionary in terms of data retrieval?\n",
        "- Ans:Lists stores data in the memory location refered the indexs given to the list items while in case of dictionaries the data is stored in the memory location refered by the key in that particular key value pair and the keys are hased so the data retrival time is less in dictionaries as compared to list.\n",
        "That is why the Time Complexity of the data retrival in list is O(n) while that of dictionary is O(l).\n",
        "\n",
        "- For Example:\n",
        "      list1=[1,2,3,5,6]\n",
        "      #data retrival in list\n",
        "      print(list1[1])\n",
        "      O/P: 2 #data given at the memory location refered by index \"1\".\n",
        "\n",
        "      dict1=[\"key1\":\"value1\",\"key2\":\"value2\"]\n",
        "      #data retrival in list\n",
        "      print(dict1[key1])\n",
        "      O/P: value1  #data given at memory location refered by key \"key1\"."
      ],
      "metadata": {
        "id": "-IC_Mx76DEkM"
      }
    },
    {
      "cell_type": "markdown",
      "source": [
        "#**Practical Questions**"
      ],
      "metadata": {
        "id": "2NANQYKtDNzY"
      }
    },
    {
      "cell_type": "markdown",
      "source": [
        "1. Write a code to create a string with your name and print it?"
      ],
      "metadata": {
        "id": "DbI_GzGFv_q_"
      }
    },
    {
      "cell_type": "code",
      "source": [
        "string1=\"Hemang Sukhadiya\"\n",
        "print(string1)"
      ],
      "metadata": {
        "colab": {
          "base_uri": "https://localhost:8080/"
        },
        "id": "_YmOgCWxDdVO",
        "outputId": "0917f634-7928-4fa0-a891-61f5502a293e"
      },
      "execution_count": null,
      "outputs": [
        {
          "output_type": "stream",
          "name": "stdout",
          "text": [
            "Hemang Sukhadiya\n"
          ]
        }
      ]
    },
    {
      "cell_type": "markdown",
      "source": [
        "2. Write a code to find the length of the string \"Hello World\"?"
      ],
      "metadata": {
        "id": "Og4saaRuDylu"
      }
    },
    {
      "cell_type": "code",
      "source": [
        "print(len(\"Hello World\"))"
      ],
      "metadata": {
        "colab": {
          "base_uri": "https://localhost:8080/"
        },
        "id": "rBK_FdAkDvF_",
        "outputId": "a5f55ec2-e22b-4315-ecbe-9d3a867fab05"
      },
      "execution_count": null,
      "outputs": [
        {
          "output_type": "stream",
          "name": "stdout",
          "text": [
            "11\n"
          ]
        }
      ]
    },
    {
      "cell_type": "markdown",
      "source": [
        "3. Write a code to slice the first 3 characters from the string \"Python Programming\"?"
      ],
      "metadata": {
        "id": "iSz-uWsZEKqe"
      }
    },
    {
      "cell_type": "code",
      "source": [
        "string2=\"Python Programming\"\n",
        "First_3_character = string2[:3]\n",
        "print(First_3_character)"
      ],
      "metadata": {
        "colab": {
          "base_uri": "https://localhost:8080/"
        },
        "id": "V2SVlbZwEGYX",
        "outputId": "1373ad72-05cc-4097-f772-30ff149a4dc9"
      },
      "execution_count": null,
      "outputs": [
        {
          "output_type": "stream",
          "name": "stdout",
          "text": [
            "Pyt\n"
          ]
        }
      ]
    },
    {
      "cell_type": "markdown",
      "source": [
        "4. Write a code to convert the string \"hello\" to uppercase?"
      ],
      "metadata": {
        "id": "XVQB9t5NEmG_"
      }
    },
    {
      "cell_type": "code",
      "source": [
        "string3=\"hello\"\n",
        "print(string3.upper())\n",
        "\n",
        "string3=\"hello\"\n",
        "print(string3.lower())\n",
        "\n",
        "string3=\"hello\"\n",
        "print(string3.title())\n",
        "\n",
        "string3=\"hello\"\n",
        "print(string3.capitalize())\n",
        "\n",
        "string3=\"heLLo\"\n",
        "print(string3.swapcase())"
      ],
      "metadata": {
        "colab": {
          "base_uri": "https://localhost:8080/"
        },
        "id": "bT9Yd4-WEfMj",
        "outputId": "a854ea94-82c4-435e-ba76-875d011c66af"
      },
      "execution_count": null,
      "outputs": [
        {
          "output_type": "stream",
          "name": "stdout",
          "text": [
            "HELLO\n",
            "hello\n",
            "Hello\n",
            "Hello\n",
            "HEllO\n"
          ]
        }
      ]
    },
    {
      "cell_type": "markdown",
      "source": [
        "5. Write a code to replace the word \"apple\" with \"orange\" in the string \"I like apple\"?"
      ],
      "metadata": {
        "id": "g0h-HXURFqTq"
      }
    },
    {
      "cell_type": "code",
      "source": [
        "string4=\"I like apple\"\n",
        "print(string4.replace(\"apple\",\"orange\"))"
      ],
      "metadata": {
        "colab": {
          "base_uri": "https://localhost:8080/"
        },
        "id": "sWxqsbXbE-oP",
        "outputId": "517ae9b0-aa76-4236-db23-f42bceca269d"
      },
      "execution_count": null,
      "outputs": [
        {
          "output_type": "stream",
          "name": "stdout",
          "text": [
            "I like orange\n"
          ]
        }
      ]
    },
    {
      "cell_type": "markdown",
      "source": [
        "6. Write a code to create a list with numbers 1 to 5 and print it?"
      ],
      "metadata": {
        "id": "dsvvO7K_F6rU"
      }
    },
    {
      "cell_type": "code",
      "source": [
        "i=1\n",
        "l=[]\n",
        "for i in range (1,6):\n",
        "  l.append(i)\n",
        "print(l)"
      ],
      "metadata": {
        "colab": {
          "base_uri": "https://localhost:8080/"
        },
        "id": "1ouI1Z4PF3tw",
        "outputId": "3c344ca4-f6ba-42af-ad90-f30bcdfb1c14"
      },
      "execution_count": null,
      "outputs": [
        {
          "output_type": "stream",
          "name": "stdout",
          "text": [
            "[1, 2, 3, 4, 5]\n"
          ]
        }
      ]
    },
    {
      "cell_type": "markdown",
      "source": [
        "7. Write a code to append the number 10 to the list [1, 2, 3, 4]?"
      ],
      "metadata": {
        "id": "SPhF-FjiGT4q"
      }
    },
    {
      "cell_type": "code",
      "source": [
        "list1=[1,2,3,4]\n",
        "list1.append(10)\n",
        "print(list1)"
      ],
      "metadata": {
        "colab": {
          "base_uri": "https://localhost:8080/"
        },
        "id": "mue-ztE9GP8E",
        "outputId": "f1c15016-7fb1-43e1-a12c-c398ffd1a449"
      },
      "execution_count": null,
      "outputs": [
        {
          "output_type": "stream",
          "name": "stdout",
          "text": [
            "[1, 2, 3, 4, 10]\n"
          ]
        }
      ]
    },
    {
      "cell_type": "markdown",
      "source": [
        "8. Write a code to remove the number 3 from the list [1, 2, 3, 4, 5]?"
      ],
      "metadata": {
        "id": "wJ0_R3swGkqc"
      }
    },
    {
      "cell_type": "code",
      "source": [
        "list1=[1,2,3,4,5]\n",
        "list1.remove(3)\n",
        "print (list1)"
      ],
      "metadata": {
        "colab": {
          "base_uri": "https://localhost:8080/"
        },
        "id": "l-gHPx9lGdrr",
        "outputId": "fd00dee9-20ce-48ed-fe2d-d3cd339333f1"
      },
      "execution_count": null,
      "outputs": [
        {
          "output_type": "stream",
          "name": "stdout",
          "text": [
            "[1, 2, 4, 5]\n"
          ]
        }
      ]
    },
    {
      "cell_type": "markdown",
      "source": [
        "9. Write a code to access the second element in the list ['a', 'b', 'c', 'd']?"
      ],
      "metadata": {
        "id": "FTUqN6kXGzDc"
      }
    },
    {
      "cell_type": "code",
      "source": [
        "list1=['a', 'b', 'c', 'd']\n",
        "print(list1[1])"
      ],
      "metadata": {
        "colab": {
          "base_uri": "https://localhost:8080/"
        },
        "id": "eTHYYjn2Gv3D",
        "outputId": "c39b098d-44ee-45a4-c4ef-3131ddc1b889"
      },
      "execution_count": null,
      "outputs": [
        {
          "output_type": "stream",
          "name": "stdout",
          "text": [
            "b\n"
          ]
        }
      ]
    },
    {
      "cell_type": "markdown",
      "source": [
        "10. Write a code to reverse the list [10, 20, 30, 40, 50]?"
      ],
      "metadata": {
        "id": "hJxcLQ4XG_2F"
      }
    },
    {
      "cell_type": "code",
      "source": [
        "#Method 1 using reverse function\n",
        "list1=[10, 20, 30, 40, 50]\n",
        "list1.reverse()\n",
        "print(list1)"
      ],
      "metadata": {
        "colab": {
          "base_uri": "https://localhost:8080/"
        },
        "id": "WcbOrKgPG9IY",
        "outputId": "f8f9da7b-f8c3-49bf-9386-8b2695198375"
      },
      "execution_count": null,
      "outputs": [
        {
          "output_type": "stream",
          "name": "stdout",
          "text": [
            "[50, 40, 30, 20, 10]\n"
          ]
        }
      ]
    },
    {
      "cell_type": "code",
      "source": [
        "#Method 2 without using inbuilt function\n",
        "list1=[10, 20, 30, 40, 50]\n",
        "list2=[]\n",
        "i=len(list1)-1\n",
        "while i>=0:\n",
        "  list2.append(list1[i])\n",
        "  i-=1\n",
        "print(list2)\n",
        "\n"
      ],
      "metadata": {
        "colab": {
          "base_uri": "https://localhost:8080/"
        },
        "id": "W8j6Dpl7HNFv",
        "outputId": "6f19d4cb-6d55-49fe-f1e1-370c3880791f"
      },
      "execution_count": null,
      "outputs": [
        {
          "output_type": "stream",
          "name": "stdout",
          "text": [
            "[50, 40, 30, 20, 10]\n"
          ]
        }
      ]
    },
    {
      "cell_type": "markdown",
      "source": [
        "11. Write a code to create a tuple with the elements 10, 20, 30 and print it."
      ],
      "metadata": {
        "id": "7t2hCM-pIMGp"
      }
    },
    {
      "cell_type": "code",
      "source": [
        "tuple1=(10,20,30)\n",
        "print(type(tuple1),tuple1)"
      ],
      "metadata": {
        "colab": {
          "base_uri": "https://localhost:8080/"
        },
        "id": "DxzM6iWFH36b",
        "outputId": "151db622-2a6e-4f4d-82ba-74e6fa4e93d5"
      },
      "execution_count": null,
      "outputs": [
        {
          "output_type": "stream",
          "name": "stdout",
          "text": [
            "<class 'tuple'> (10, 20, 30)\n"
          ]
        }
      ]
    },
    {
      "cell_type": "markdown",
      "source": [
        "12. Write a code to access the first element of the tuple ('apple', 'banana', 'cherry')."
      ],
      "metadata": {
        "id": "kM-gUFdHIXuS"
      }
    },
    {
      "cell_type": "code",
      "source": [
        "tuple1= ('apple', 'banana', 'cherry')\n",
        "print(tuple1[0])"
      ],
      "metadata": {
        "colab": {
          "base_uri": "https://localhost:8080/"
        },
        "id": "xXwQ6IEhIcM4",
        "outputId": "03be33f3-f9d9-47ee-8f18-596fbbbc5c56"
      },
      "execution_count": null,
      "outputs": [
        {
          "output_type": "stream",
          "name": "stdout",
          "text": [
            "apple\n"
          ]
        }
      ]
    },
    {
      "cell_type": "markdown",
      "source": [
        "13. Write a code to count how many times the number 2 appears in the tuple (1, 2, 3, 2, 4, 2)."
      ],
      "metadata": {
        "id": "Os9EE5yMIbg0"
      }
    },
    {
      "cell_type": "code",
      "source": [
        "tuple1=(1, 2, 3, 2, 4, 2)\n",
        "print(\"Count of appearing element 2 in tuple: \", tuple1.count(2))"
      ],
      "metadata": {
        "colab": {
          "base_uri": "https://localhost:8080/"
        },
        "id": "QSn5sGN8Iq76",
        "outputId": "f35cbd83-e286-4ef6-8252-28f65192f088"
      },
      "execution_count": null,
      "outputs": [
        {
          "output_type": "stream",
          "name": "stdout",
          "text": [
            "Count of appearing element 2 in tuple:  3\n"
          ]
        }
      ]
    },
    {
      "cell_type": "markdown",
      "source": [
        "14. Write a code to find the index of the element \"cat\" in the tuple ('dog', 'cat', 'rabbit')."
      ],
      "metadata": {
        "id": "Di4nBtFkJorR"
      }
    },
    {
      "cell_type": "code",
      "source": [
        "tuple1=('dog', 'cat', 'rabbit')\n",
        "print(\"Index of the 'cat' in the given tuple is: \",tuple1.index('cat'))"
      ],
      "metadata": {
        "colab": {
          "base_uri": "https://localhost:8080/"
        },
        "id": "YJ2AApVSJXen",
        "outputId": "264bf896-c713-4404-9fee-af2386da1a36"
      },
      "execution_count": null,
      "outputs": [
        {
          "output_type": "stream",
          "name": "stdout",
          "text": [
            "Index of the 'cat' in the given tuple is:  1\n"
          ]
        }
      ]
    },
    {
      "cell_type": "markdown",
      "source": [
        "15. Write a code to check if the element \"banana\" is in the tuple ('apple', 'orange', 'banana')."
      ],
      "metadata": {
        "id": "UG8FT_j6KDMB"
      }
    },
    {
      "cell_type": "code",
      "source": [
        "tuple1=('apple', 'orange', 'banana')\n",
        "s=\"banana\" in (tuple1)\n",
        "#as banana is member of the tuple s will be true and if statement will run else not run.\n",
        "if s:\n",
        "  print(\"Banana is in the tuple\")\n",
        "else:\n",
        "  print(\"Banana is not in the tuple\")"
      ],
      "metadata": {
        "id": "icDK48zbJxYC",
        "colab": {
          "base_uri": "https://localhost:8080/"
        },
        "outputId": "36124279-887d-4371-b124-96bedb1f3771"
      },
      "execution_count": null,
      "outputs": [
        {
          "output_type": "stream",
          "name": "stdout",
          "text": [
            "Banana is in the tuple\n"
          ]
        }
      ]
    },
    {
      "cell_type": "markdown",
      "source": [
        "16. Write a code to create a set with the elements 1, 2, 3, 4, 5 and print it."
      ],
      "metadata": {
        "id": "m8QuMjsN8FIK"
      }
    },
    {
      "cell_type": "code",
      "source": [
        "s={1,2,3,4,5}\n",
        "print(type(s),s)"
      ],
      "metadata": {
        "colab": {
          "base_uri": "https://localhost:8080/"
        },
        "id": "bEFQB-MQ7z9L",
        "outputId": "d42c28cb-d359-48d2-8464-f85c1ea60053"
      },
      "execution_count": null,
      "outputs": [
        {
          "output_type": "stream",
          "name": "stdout",
          "text": [
            "<class 'set'> {1, 2, 3, 4, 5}\n"
          ]
        }
      ]
    },
    {
      "cell_type": "markdown",
      "source": [
        "17. Write a code to add the element 6 to the set {1, 2, 3, 4}."
      ],
      "metadata": {
        "id": "IK_MxAbI8xvC"
      }
    },
    {
      "cell_type": "code",
      "source": [
        "s1={1, 2, 3, 4}\n",
        "s1.add(6)\n",
        "print(type(s1),s1)"
      ],
      "metadata": {
        "colab": {
          "base_uri": "https://localhost:8080/"
        },
        "id": "T42PZyte8rDC",
        "outputId": "33a70cf2-4f43-441b-ad66-ae196fd04482"
      },
      "execution_count": null,
      "outputs": [
        {
          "output_type": "stream",
          "name": "stdout",
          "text": [
            "<class 'set'> {1, 2, 3, 4, 6}\n"
          ]
        }
      ]
    },
    {
      "cell_type": "markdown",
      "source": [
        "18. Write a code to create a tuple with the elements 10, 20, 30 and print it."
      ],
      "metadata": {
        "id": "jGqwDe4Z9Je7"
      }
    },
    {
      "cell_type": "code",
      "source": [
        "tuple1=(10,20,30)\n",
        "print(type(tuple1),tuple1)"
      ],
      "metadata": {
        "colab": {
          "base_uri": "https://localhost:8080/"
        },
        "id": "oIvE9ZUZ880E",
        "outputId": "d111247f-0ad4-4804-cb9c-5f7908848531"
      },
      "execution_count": null,
      "outputs": [
        {
          "output_type": "stream",
          "name": "stdout",
          "text": [
            "<class 'tuple'> (10, 20, 30)\n"
          ]
        }
      ]
    },
    {
      "cell_type": "markdown",
      "source": [
        "19. Write a code to access the first element of the tuple ('apple', 'banana', 'cherry')."
      ],
      "metadata": {
        "id": "6nSCg9gr9Xai"
      }
    },
    {
      "cell_type": "code",
      "source": [
        "tuple1=('apple', 'banana','cherry')\n",
        "print(\"The first element of the given tuple is: \",tuple1[0])"
      ],
      "metadata": {
        "colab": {
          "base_uri": "https://localhost:8080/"
        },
        "id": "abwipSDG9T1J",
        "outputId": "af74f6ed-bcdb-454a-ff2a-2b09b069d43a"
      },
      "execution_count": null,
      "outputs": [
        {
          "output_type": "stream",
          "name": "stdout",
          "text": [
            "The first element of the given tuple is:  apple\n"
          ]
        }
      ]
    },
    {
      "cell_type": "markdown",
      "source": [
        "20. Write a code to count how many times the number 2 appears in the tuple (1, 2, 3, 2, 4, 2)."
      ],
      "metadata": {
        "id": "dvcZTn4r96M5"
      }
    },
    {
      "cell_type": "code",
      "source": [
        "tuple1=(1, 2, 3, 2, 4, 2)\n",
        "print(\"Count of appearing element 2 in tuple: \", tuple1.count(2))"
      ],
      "metadata": {
        "colab": {
          "base_uri": "https://localhost:8080/"
        },
        "id": "FHYnUEwq9jTB",
        "outputId": "846e724a-ce5e-4792-bf8f-298c61d3ab96"
      },
      "execution_count": null,
      "outputs": [
        {
          "output_type": "stream",
          "name": "stdout",
          "text": [
            "Count of appearing element 2 in tuple:  3\n"
          ]
        }
      ]
    },
    {
      "cell_type": "markdown",
      "source": [
        "21. Write a code to find the index of the element \"cat\" in the tuple ('dog', 'cat', 'rabbit')."
      ],
      "metadata": {
        "id": "5oH4SOnF9_ey"
      }
    },
    {
      "cell_type": "code",
      "source": [
        "tuple1=('dog', 'cat', 'rabbit')\n",
        "print(\"Index of the 'cat' in the given tuple is: \",tuple1.index('cat'))"
      ],
      "metadata": {
        "colab": {
          "base_uri": "https://localhost:8080/"
        },
        "id": "y4T-0Wyg99qx",
        "outputId": "c08ca72d-20d4-4660-a37e-2d831ce92cde"
      },
      "execution_count": null,
      "outputs": [
        {
          "output_type": "stream",
          "name": "stdout",
          "text": [
            "Index of the 'cat' in the given tuple is:  1\n"
          ]
        }
      ]
    },
    {
      "cell_type": "markdown",
      "source": [
        "22. Write a code to check if the element \"banana\" is in the tuple ('apple', 'orange', 'banana')."
      ],
      "metadata": {
        "id": "kRfBs7X3-Fix"
      }
    },
    {
      "cell_type": "code",
      "source": [
        "tuple1=('apple', 'orange', 'banana')\n",
        "s=\"banana\" in (tuple1)\n",
        "#as banana is member of the tuple s will be true and if statement will run else not run.\n",
        "if s:\n",
        "  print(\"Banana is in the tuple\")\n",
        "else:\n",
        "  print(\"Banana is not in the tuple\")"
      ],
      "metadata": {
        "colab": {
          "base_uri": "https://localhost:8080/"
        },
        "id": "sCxhSQFE-CoJ",
        "outputId": "3bc71f99-f612-4c5d-d7b5-1a43b85b9486"
      },
      "execution_count": null,
      "outputs": [
        {
          "output_type": "stream",
          "name": "stdout",
          "text": [
            "Banana is in the tuple\n"
          ]
        }
      ]
    },
    {
      "cell_type": "markdown",
      "source": [
        "23. Write a code to create a set with the elements 1, 2, 3, 4, 5 and print it."
      ],
      "metadata": {
        "id": "l8KMR42g-LWB"
      }
    },
    {
      "cell_type": "code",
      "source": [
        "s={1,2,3,4,5}\n",
        "print(type(s),s)"
      ],
      "metadata": {
        "colab": {
          "base_uri": "https://localhost:8080/"
        },
        "id": "LKCKK6uo-ILp",
        "outputId": "ea2a91a2-3985-4cdc-e2a5-c8874eb0f62e"
      },
      "execution_count": null,
      "outputs": [
        {
          "output_type": "stream",
          "name": "stdout",
          "text": [
            "<class 'set'> {1, 2, 3, 4, 5}\n"
          ]
        }
      ]
    },
    {
      "cell_type": "markdown",
      "source": [
        "24. Write a code to add the element 6 to the set {1, 2, 3, 4}."
      ],
      "metadata": {
        "id": "XRZ4v7x1-VQS"
      }
    },
    {
      "cell_type": "code",
      "source": [
        "s1={1, 2, 3, 4}\n",
        "s1.add(6)\n",
        "print(type(s1),s1)"
      ],
      "metadata": {
        "id": "nfoUF9UB-QHL"
      },
      "execution_count": null,
      "outputs": []
    }
  ]
}